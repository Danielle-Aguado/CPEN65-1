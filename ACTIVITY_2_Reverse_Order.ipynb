{
  "nbformat": 4,
  "nbformat_minor": 0,
  "metadata": {
    "colab": {
      "provenance": [],
      "authorship_tag": "ABX9TyPiDHCP1KjxqkMTayCMpHip",
      "include_colab_link": true
    },
    "kernelspec": {
      "name": "python3",
      "display_name": "Python 3"
    },
    "language_info": {
      "name": "python"
    }
  },
  "cells": [
    {
      "cell_type": "markdown",
      "metadata": {
        "id": "view-in-github",
        "colab_type": "text"
      },
      "source": [
        "<a href=\"https://colab.research.google.com/github/Danielle-Aguado/CPEN65-1/blob/main/ACTIVITY_2_Reverse_Order.ipynb\" target=\"_parent\"><img src=\"https://colab.research.google.com/assets/colab-badge.svg\" alt=\"Open In Colab\"/></a>"
      ]
    },
    {
      "cell_type": "markdown",
      "source": [
        "1. Create a python program that use Array \n",
        "2. Insert each character of your full name and displays \n",
        "each character of your full name in reverse order"
      ],
      "metadata": {
        "id": "yhpIt1eBaM2j"
      }
    },
    {
      "cell_type": "code",
      "source": [
        "#Reverse the order\n",
        "name = [\"D\",\"a\",\"n\",\"i\",\"e\",\"l\",\"l\",\"e\",\"Y\",\"s\",\"a\",\"b\",\"e\",\"l\",\"l\",\"e\",\"M.\",\"A\",\"g\",\"u\",\"a\",\"d\",\"o\"]\n",
        "name.reverse()\n",
        "print(name)"
      ],
      "metadata": {
        "colab": {
          "base_uri": "https://localhost:8080/"
        },
        "id": "kRVcBdyNcW9g",
        "outputId": "1c9a5f57-7c85-495b-aaf5-ede7aa0e2708"
      },
      "execution_count": null,
      "outputs": [
        {
          "output_type": "stream",
          "name": "stdout",
          "text": [
            "['o', 'd', 'a', 'u', 'g', 'A', 'M.', 'e', 'l', 'l', 'e', 'b', 'a', 's', 'Y', 'e', 'l', 'l', 'e', 'i', 'n', 'a', 'D']\n"
          ]
        }
      ]
    }
  ]
}