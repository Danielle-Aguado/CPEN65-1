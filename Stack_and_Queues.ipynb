{
  "nbformat": 4,
  "nbformat_minor": 0,
  "metadata": {
    "colab": {
      "provenance": [],
      "authorship_tag": "ABX9TyN2FZ0WgsHe9xh6xK25PPTo",
      "include_colab_link": true
    },
    "kernelspec": {
      "name": "python3",
      "display_name": "Python 3"
    },
    "language_info": {
      "name": "python"
    }
  },
  "cells": [
    {
      "cell_type": "markdown",
      "metadata": {
        "id": "view-in-github",
        "colab_type": "text"
      },
      "source": [
        "<a href=\"https://colab.research.google.com/github/Danielle-Aguado/CPEN65-1/blob/main/Stack_and_Queues.ipynb\" target=\"_parent\"><img src=\"https://colab.research.google.com/assets/colab-badge.svg\" alt=\"Open In Colab\"/></a>"
      ]
    },
    {
      "cell_type": "code",
      "execution_count": 7,
      "metadata": {
        "colab": {
          "base_uri": "https://localhost:8080/"
        },
        "id": "SEma9jgJeoTh",
        "outputId": "60e70b35-261d-4c00-d54c-97bf37bf51f4"
      },
      "outputs": [
        {
          "output_type": "stream",
          "name": "stdout",
          "text": [
            "['A', 'B', 'C']\n",
            "['A']\n"
          ]
        },
        {
          "output_type": "execute_result",
          "data": {
            "text/plain": [
              "1"
            ]
          },
          "metadata": {},
          "execution_count": 7
        }
      ],
      "source": [
        "class Stack:\n",
        "  def __init__(self):\n",
        "    self.stack = []                       #stack implementation using OOP concepts\n",
        "\n",
        "  def push(self,dataval):\n",
        "    if dataval not in self.stack:\n",
        "      return self.stack.append(dataval)\n",
        "    else:\n",
        "      return False\n",
        "  def pop(self):\n",
        "    if len(self.stack)<=0:\n",
        "      return (\"No element in the stack\")\n",
        "    else:\n",
        "      return self.stack.pop()\n",
        "\n",
        "AStack = Stack()\n",
        "AStack.push(\"A\")\n",
        "AStack.push(\"B\")\n",
        "AStack.push(\"C\")\n",
        "print(AStack.stack)\n",
        "AStack.pop()\n",
        "AStack.pop()\n",
        "print(AStack.stack)\n",
        "len(AStack.stack)"
      ]
    },
    {
      "cell_type": "code",
      "source": [
        "#Application 1\n",
        "\n",
        "#Implement the above program by Queues Data Structure (enqueue and dequeue/FIFO)\n",
        "\n",
        "class Queues:\n",
        "  def __init__(self):\n",
        "    self.queues = []                       \n",
        "\n",
        "  def enqueue(self,dataval):\n",
        "    if dataval not in self.queues:\n",
        "      return self.queues.append(dataval)\n",
        "    else:\n",
        "      return False\n",
        "  def dequeue(self):\n",
        "    if len(self.queues)<=0:\n",
        "      return (\"No element in the queue\")\n",
        "    else:\n",
        "      return  self.queues.pop(0)\n",
        "\n",
        "AQueues = Queues()\n",
        "AQueues.enqueue(\"A\")\n",
        "AQueues.enqueue(\"B\")\n",
        "AQueues.enqueue(\"C\")\n",
        "print(AQueues.queues)\n",
        "AQueues.dequeue()\n",
        "print(AQueues.queues)"
      ],
      "metadata": {
        "colab": {
          "base_uri": "https://localhost:8080/"
        },
        "id": "XxcI1z3IiJaq",
        "outputId": "d4012621-4f8f-4add-aa80-126afa46dd13"
      },
      "execution_count": 33,
      "outputs": [
        {
          "output_type": "stream",
          "name": "stdout",
          "text": [
            "['A', 'B', 'C']\n",
            "['B', 'C']\n"
          ]
        }
      ]
    },
    {
      "cell_type": "markdown",
      "source": [
        "###Or"
      ],
      "metadata": {
        "id": "DEdDO-RlvED-"
      }
    },
    {
      "cell_type": "code",
      "source": [
        "#Implement the above program by Queues Data Structure (enqueue and dequeue/FIFO)\n",
        "\n",
        "class Queues:\n",
        "  def __init__(self):\n",
        "    self.queues = []                       \n",
        "\n",
        "  def enqueue(self,dataval):\n",
        "    if dataval not in self.queues:\n",
        "      return self.queues.insert(0, dataval)\n",
        "    else:\n",
        "      return False\n",
        "  def dequeue(self):\n",
        "    if len(self.queues)<=0:\n",
        "      return (\"No element in the queue\")\n",
        "    else:\n",
        "      return  self.queues.pop()\n",
        "\n",
        "AQueues = Queues()\n",
        "AQueues.enqueue(\"A\")\n",
        "AQueues.enqueue(\"B\")\n",
        "AQueues.enqueue(\"C\")\n",
        "print(AQueues.queues)\n",
        "AQueues.dequeue()\n",
        "print(AQueues.queues)"
      ],
      "metadata": {
        "colab": {
          "base_uri": "https://localhost:8080/"
        },
        "id": "xZcY7O3svBp5",
        "outputId": "2a8efab2-97cf-42a4-d007-0980db4973a4"
      },
      "execution_count": 34,
      "outputs": [
        {
          "output_type": "stream",
          "name": "stdout",
          "text": [
            "['C', 'B', 'A']\n",
            "['C', 'B']\n"
          ]
        }
      ]
    },
    {
      "cell_type": "code",
      "source": [
        "Array = [1,2,3]\n",
        "\n",
        "Array.pop()\n",
        "\n",
        "print(Array)"
      ],
      "metadata": {
        "colab": {
          "base_uri": "https://localhost:8080/"
        },
        "id": "Ek3DQbHCikSO",
        "outputId": "bd81325d-70c9-4b71-c6c5-d644a2f566f0"
      },
      "execution_count": 8,
      "outputs": [
        {
          "output_type": "stream",
          "name": "stdout",
          "text": [
            "[1, 2]\n"
          ]
        }
      ]
    }
  ]
}