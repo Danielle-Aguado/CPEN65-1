{
  "nbformat": 4,
  "nbformat_minor": 0,
  "metadata": {
    "colab": {
      "provenance": [],
      "authorship_tag": "ABX9TyOgOpUwBa/jkdnQ+Mb+PAD5",
      "include_colab_link": true
    },
    "kernelspec": {
      "name": "python3",
      "display_name": "Python 3"
    },
    "language_info": {
      "name": "python"
    }
  },
  "cells": [
    {
      "cell_type": "markdown",
      "metadata": {
        "id": "view-in-github",
        "colab_type": "text"
      },
      "source": [
        "<a href=\"https://colab.research.google.com/github/Danielle-Aguado/CPEN65-1/blob/main/Array.ipynb\" target=\"_parent\"><img src=\"https://colab.research.google.com/assets/colab-badge.svg\" alt=\"Open In Colab\"/></a>"
      ]
    },
    {
      "cell_type": "code",
      "source": [
        "#Accessing the Elements in the Array\n",
        "animals=[\"cat\",\"dog\",\"fish\"]\n",
        "x=animals[0]\n",
        "y=animals[1]\n",
        "z=animals[2]\n",
        "print(x)\n",
        "print(y)\n",
        "print(z)"
      ],
      "metadata": {
        "colab": {
          "base_uri": "https://localhost:8080/"
        },
        "id": "UuAFdPEoC0oM",
        "outputId": "48321429-28fb-4f58-d97b-48a7e21ceefe"
      },
      "execution_count": 1,
      "outputs": [
        {
          "output_type": "stream",
          "name": "stdout",
          "text": [
            "cat\n",
            "dog\n",
            "fish\n"
          ]
        }
      ]
    },
    {
      "cell_type": "code",
      "source": [
        "#Modifying the Elements in the Array\n",
        "animals=[\"cat\",\"dog\",\"fish\"]\n",
        "animals[0]=\"monkey\"\n",
        "x=animals[0]\n",
        "print(x)\n",
        "print(animals)"
      ],
      "metadata": {
        "colab": {
          "base_uri": "https://localhost:8080/"
        },
        "id": "TVq7mvMEHH6A",
        "outputId": "a317c89d-ea9b-492f-a247-4d349b6379fb"
      },
      "execution_count": 2,
      "outputs": [
        {
          "output_type": "stream",
          "name": "stdout",
          "text": [
            "monkey\n",
            "['monkey', 'dog', 'fish']\n"
          ]
        }
      ]
    },
    {
      "cell_type": "code",
      "source": [
        "#Length of an Array\n",
        "animals=[\"monkey\",\"dog\",\"fish\",\"cat\",\"birds\"]\n",
        "v=len(animals)\n",
        "print(v)"
      ],
      "metadata": {
        "colab": {
          "base_uri": "https://localhost:8080/"
        },
        "id": "hhum4NqBHQjA",
        "outputId": "069144be-18d5-4a81-981a-64e7a3b296cf"
      },
      "execution_count": 3,
      "outputs": [
        {
          "output_type": "stream",
          "name": "stdout",
          "text": [
            "5\n"
          ]
        }
      ]
    },
    {
      "cell_type": "code",
      "source": [
        "#Looping Array Elements\n",
        "animals=[\"monkey\",\"dog\",\"fish\",\"cat\",\"birds\"]\n",
        "for index, val in enumerate(animals):\n",
        "  print(index,val)"
      ],
      "metadata": {
        "colab": {
          "base_uri": "https://localhost:8080/"
        },
        "id": "lNj1XrQaHdx7",
        "outputId": "bd13010b-fbc8-4eac-dd34-1a2c0068851a"
      },
      "execution_count": 4,
      "outputs": [
        {
          "output_type": "stream",
          "name": "stdout",
          "text": [
            "0 monkey\n",
            "1 dog\n",
            "2 fish\n",
            "3 cat\n",
            "4 birds\n"
          ]
        }
      ]
    },
    {
      "cell_type": "code",
      "source": [
        "#Adding Elements in the Array\n",
        "animals=[\"monkey\",\"dog\",\"fish\",\"cat\",\"birds\"]\n",
        "animals.append(\"lion\")\n",
        "print(animals)"
      ],
      "metadata": {
        "colab": {
          "base_uri": "https://localhost:8080/"
        },
        "id": "oq2uDck7HqJC",
        "outputId": "6f345e3e-d7d2-464b-962f-0560ba1dd816"
      },
      "execution_count": 5,
      "outputs": [
        {
          "output_type": "stream",
          "name": "stdout",
          "text": [
            "['monkey', 'dog', 'fish', 'cat', 'birds', 'lion']\n"
          ]
        }
      ]
    },
    {
      "cell_type": "code",
      "execution_count": 6,
      "metadata": {
        "colab": {
          "base_uri": "https://localhost:8080/"
        },
        "id": "_QEuw1Tt-EjC",
        "outputId": "562352ad-a42a-4806-8940-73c0af9866f0"
      },
      "outputs": [
        {
          "output_type": "stream",
          "name": "stdout",
          "text": [
            "[1, 11, 2, 3, 4, 5, 6, 7, 8, 9, 10]\n"
          ]
        }
      ],
      "source": [
        "#Write a Python program to insert a new item ('11') before the second element in an existing array.\n",
        "#Original array: numbers = [1,2,3,4,5,6,7,8,9,10]\n",
        "numbers = [1,2,3,4,5,6,7,8,9,10]\n",
        "numbers.insert(1,11)\n",
        "print(numbers)"
      ]
    },
    {
      "cell_type": "code",
      "source": [
        "#Removing element/s in a Array\n",
        "\n",
        "print(numbers)\n",
        "numbers.pop(1)\n",
        "print(numbers)"
      ],
      "metadata": {
        "colab": {
          "base_uri": "https://localhost:8080/"
        },
        "id": "njydmDFF_IJU",
        "outputId": "0cebec2a-19b4-4bed-eda3-5f2ce05aedb3"
      },
      "execution_count": 7,
      "outputs": [
        {
          "output_type": "stream",
          "name": "stdout",
          "text": [
            "[1, 11, 2, 3, 4, 5, 6, 7, 8, 9, 10]\n",
            "[1, 2, 3, 4, 5, 6, 7, 8, 9, 10]\n"
          ]
        }
      ]
    }
  ]
}